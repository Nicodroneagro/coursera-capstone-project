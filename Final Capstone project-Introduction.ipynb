{
    "cells": [
        {
            "cell_type": "markdown",
            "metadata": {
                "collapsed": true
            },
            "source": "# Location recommandation of restaurant opening in Lausanne (Switzerland)"
        },
        {
            "cell_type": "markdown",
            "metadata": {},
            "source": "## Introduction"
        },
        {
            "cell_type": "markdown",
            "metadata": {},
            "source": "##### To open a new restaurant in a new city, it's difficult to choose the right place to start the business. There are a lot of parmeters to take into account in order to succeed to run a new businness. The food, service but also the location have to be choosen in a meaningful way in order to establish a productive bussiness. The location of the restaurant should take into account different parameters like parking availability, visiblity and neighborhood competition. With Foursquare location data, it will be possible to recommand a specific location adapted to a new restaurant opening."
        },
        {
            "cell_type": "code",
            "execution_count": null,
            "metadata": {},
            "outputs": [],
            "source": ""
        }
    ],
    "metadata": {
        "kernelspec": {
            "display_name": "Python 3.6",
            "language": "python",
            "name": "python3"
        },
        "language_info": {
            "codemirror_mode": {
                "name": "ipython",
                "version": 3
            },
            "file_extension": ".py",
            "mimetype": "text/x-python",
            "name": "python",
            "nbconvert_exporter": "python",
            "pygments_lexer": "ipython3",
            "version": "3.6.9"
        }
    },
    "nbformat": 4,
    "nbformat_minor": 1
}