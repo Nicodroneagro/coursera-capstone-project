{
    "cells": [
        {
            "cell_type": "code",
            "execution_count": 5,
            "metadata": {},
            "outputs": [
                {
                    "data": {
                        "text/plain": "(287, 3)"
                    },
                    "execution_count": 5,
                    "metadata": {},
                    "output_type": "execute_result"
                }
            ],
            "source": "import pandas as pd\nurl='https://en.wikipedia.org/wiki/List_of_postal_codes_of_Canada:_M'\ndf=pd.read_html(url, header=0)[0]\ndf.head()\ndf.shape"
        },
        {
            "cell_type": "code",
            "execution_count": 6,
            "metadata": {},
            "outputs": [
                {
                    "data": {
                        "text/plain": "(210, 3)"
                    },
                    "execution_count": 6,
                    "metadata": {},
                    "output_type": "execute_result"
                }
            ],
            "source": "df = df.set_index(\"Borough\")\ndf = df.drop(\"Not assigned\", axis=0)\ndf.reset_index(inplace=True)\ndf.sort_values(\"Postcode\", inplace=True)\ndf.head()\ndf.shape"
        },
        {
            "cell_type": "code",
            "execution_count": 7,
            "metadata": {},
            "outputs": [
                {
                    "data": {
                        "text/html": "<div>\n<style scoped>\n    .dataframe tbody tr th:only-of-type {\n        vertical-align: middle;\n    }\n\n    .dataframe tbody tr th {\n        vertical-align: top;\n    }\n\n    .dataframe thead th {\n        text-align: right;\n    }\n</style>\n<table border=\"1\" class=\"dataframe\">\n  <thead>\n    <tr style=\"text-align: right;\">\n      <th></th>\n      <th></th>\n      <th>Neighbourhood</th>\n    </tr>\n    <tr>\n      <th>Postcode</th>\n      <th>Borough</th>\n      <th></th>\n    </tr>\n  </thead>\n  <tbody>\n    <tr>\n      <th rowspan=\"2\" valign=\"top\">M1B</th>\n      <th>Scarborough</th>\n      <td>Rouge</td>\n    </tr>\n    <tr>\n      <th>Scarborough</th>\n      <td>Malvern</td>\n    </tr>\n    <tr>\n      <th rowspan=\"3\" valign=\"top\">M1C</th>\n      <th>Scarborough</th>\n      <td>Port Union</td>\n    </tr>\n    <tr>\n      <th>Scarborough</th>\n      <td>Rouge Hill</td>\n    </tr>\n    <tr>\n      <th>Scarborough</th>\n      <td>Highland Creek</td>\n    </tr>\n  </tbody>\n</table>\n</div>",
                        "text/plain": "                       Neighbourhood\nPostcode Borough                    \nM1B      Scarborough           Rouge\n         Scarborough         Malvern\nM1C      Scarborough      Port Union\n         Scarborough      Rouge Hill\n         Scarborough  Highland Creek"
                    },
                    "execution_count": 7,
                    "metadata": {},
                    "output_type": "execute_result"
                }
            ],
            "source": "df=df.set_index([\"Postcode\",\"Borough\"])\ndf.head()"
        },
        {
            "cell_type": "code",
            "execution_count": 9,
            "metadata": {},
            "outputs": [
                {
                    "data": {
                        "text/html": "<div>\n<style scoped>\n    .dataframe tbody tr th:only-of-type {\n        vertical-align: middle;\n    }\n\n    .dataframe tbody tr th {\n        vertical-align: top;\n    }\n\n    .dataframe thead th {\n        text-align: right;\n    }\n</style>\n<table border=\"1\" class=\"dataframe\">\n  <thead>\n    <tr style=\"text-align: right;\">\n      <th></th>\n      <th></th>\n      <th>Neighbourhood</th>\n    </tr>\n    <tr>\n      <th>Postcode</th>\n      <th>Borough</th>\n      <th></th>\n    </tr>\n  </thead>\n  <tbody>\n    <tr>\n      <th>M1B</th>\n      <th>Scarborough</th>\n      <td>Rouge,Malvern</td>\n    </tr>\n    <tr>\n      <th>M1C</th>\n      <th>Scarborough</th>\n      <td>Port Union,Rouge Hill,Highland Creek</td>\n    </tr>\n    <tr>\n      <th>M1E</th>\n      <th>Scarborough</th>\n      <td>Guildwood,Morningside,West Hill</td>\n    </tr>\n    <tr>\n      <th>M1G</th>\n      <th>Scarborough</th>\n      <td>Woburn</td>\n    </tr>\n    <tr>\n      <th>M1H</th>\n      <th>Scarborough</th>\n      <td>Cedarbrae</td>\n    </tr>\n  </tbody>\n</table>\n</div>",
                        "text/plain": "                                             Neighbourhood\nPostcode Borough                                          \nM1B      Scarborough                         Rouge,Malvern\nM1C      Scarborough  Port Union,Rouge Hill,Highland Creek\nM1E      Scarborough       Guildwood,Morningside,West Hill\nM1G      Scarborough                                Woburn\nM1H      Scarborough                             Cedarbrae"
                    },
                    "execution_count": 9,
                    "metadata": {},
                    "output_type": "execute_result"
                }
            ],
            "source": "dfgroup = df.groupby(level=['Postcode','Borough'],sort=False).agg( ','.join)\ndfgroup.head()"
        },
        {
            "cell_type": "code",
            "execution_count": 10,
            "metadata": {},
            "outputs": [
                {
                    "data": {
                        "text/html": "<div>\n<style scoped>\n    .dataframe tbody tr th:only-of-type {\n        vertical-align: middle;\n    }\n\n    .dataframe tbody tr th {\n        vertical-align: top;\n    }\n\n    .dataframe thead th {\n        text-align: right;\n    }\n</style>\n<table border=\"1\" class=\"dataframe\">\n  <thead>\n    <tr style=\"text-align: right;\">\n      <th></th>\n      <th>Postcode</th>\n      <th>Borough</th>\n      <th>Neighbourhood</th>\n    </tr>\n  </thead>\n  <tbody>\n    <tr>\n      <th>0</th>\n      <td>M1B</td>\n      <td>Scarborough</td>\n      <td>Rouge,Malvern</td>\n    </tr>\n    <tr>\n      <th>1</th>\n      <td>M1C</td>\n      <td>Scarborough</td>\n      <td>Port Union,Rouge Hill,Highland Creek</td>\n    </tr>\n    <tr>\n      <th>2</th>\n      <td>M1E</td>\n      <td>Scarborough</td>\n      <td>Guildwood,Morningside,West Hill</td>\n    </tr>\n    <tr>\n      <th>3</th>\n      <td>M1G</td>\n      <td>Scarborough</td>\n      <td>Woburn</td>\n    </tr>\n    <tr>\n      <th>4</th>\n      <td>M1H</td>\n      <td>Scarborough</td>\n      <td>Cedarbrae</td>\n    </tr>\n  </tbody>\n</table>\n</div>",
                        "text/plain": "  Postcode      Borough                         Neighbourhood\n0      M1B  Scarborough                         Rouge,Malvern\n1      M1C  Scarborough  Port Union,Rouge Hill,Highland Creek\n2      M1E  Scarborough       Guildwood,Morningside,West Hill\n3      M1G  Scarborough                                Woburn\n4      M1H  Scarborough                             Cedarbrae"
                    },
                    "execution_count": 10,
                    "metadata": {},
                    "output_type": "execute_result"
                }
            ],
            "source": "dfgroup.reset_index(inplace=True)\ndfgroup.head()"
        },
        {
            "cell_type": "code",
            "execution_count": 11,
            "metadata": {},
            "outputs": [
                {
                    "data": {
                        "text/plain": "(103, 3)"
                    },
                    "execution_count": 11,
                    "metadata": {},
                    "output_type": "execute_result"
                }
            ],
            "source": "dfgroup.shape"
        },
        {
            "cell_type": "code",
            "execution_count": 4,
            "metadata": {},
            "outputs": [
                {
                    "name": "stdout",
                    "output_type": "stream",
                    "text": "--2020-03-15 19:36:27--  http://cocl.us/Geospatial_data\nResolving cocl.us (cocl.us)... 169.48.113.194, 158.85.108.83, 158.85.108.86\nConnecting to cocl.us (cocl.us)|169.48.113.194|:80... connected.\nHTTP request sent, awaiting response... 301 Moved Permanently\nLocation: https://cocl.us/Geospatial_data [following]\n--2020-03-15 19:36:27--  https://cocl.us/Geospatial_data\nConnecting to cocl.us (cocl.us)|169.48.113.194|:443... connected.\nHTTP request sent, awaiting response... 301 Moved Permanently\nLocation: https://ibm.box.com/shared/static/9afzr83pps4pwf2smjjcf1y5mvgb18rr.csv [following]\n--2020-03-15 19:36:27--  https://ibm.box.com/shared/static/9afzr83pps4pwf2smjjcf1y5mvgb18rr.csv\nResolving ibm.box.com (ibm.box.com)... 107.152.29.197\nConnecting to ibm.box.com (ibm.box.com)|107.152.29.197|:443... connected.\nHTTP request sent, awaiting response... 301 Moved Permanently\nLocation: /public/static/9afzr83pps4pwf2smjjcf1y5mvgb18rr.csv [following]\n--2020-03-15 19:36:27--  https://ibm.box.com/public/static/9afzr83pps4pwf2smjjcf1y5mvgb18rr.csv\nReusing existing connection to ibm.box.com:443.\nHTTP request sent, awaiting response... 301 Moved Permanently\nLocation: https://ibm.ent.box.com/public/static/9afzr83pps4pwf2smjjcf1y5mvgb18rr.csv [following]\n--2020-03-15 19:36:28--  https://ibm.ent.box.com/public/static/9afzr83pps4pwf2smjjcf1y5mvgb18rr.csv\nResolving ibm.ent.box.com (ibm.ent.box.com)... 107.152.29.211\nConnecting to ibm.ent.box.com (ibm.ent.box.com)|107.152.29.211|:443... connected.\nHTTP request sent, awaiting response... 302 Found\nLocation: https://public.boxcloud.com/d/1/b1!-ZA-gZCR2TK45ngVxA_qA1iCcxKRB9GzfCJdwVD3uUhI1JNg8kbR8AIjexL-wZcDO_lK5pMdwDpydSG0HyAwNmltzHO_8Xvp61FALkfo0RsotjaI8ICfVelGuMhCL3PdWS_fN8IWI8H4TeySFt6iySe2AhV27VLVVKfCz-sUYV4oyLn6HXArrZ4hW4_QBX0Y0MXfooB8Pynz_fZ0ly5fxjrgKk5STBhlPw0ZjOxt9atRS1ltTXcgyw9r-5gGCdDN-sRKNsCCXZRM7r3hXVsG8vFmgNfdLgXACk7LKctq3IGAUvd4zszG4MT3WXrH1rWyKcLUQea0N8C0cnlswcl7TmxfkzjoryE7bQTKk26_63vtTEM0L0fjyg_XyMVptiTgPeqrBA7-K3IXNfEudysqUJ9SXaKz_8dcs72adaFdMby1MeqrDF7a6vHFbDd78kWCbE_cI-V5jr5wzWUfGgJK2TI9LPDnRZNA_ej1jtRx4nOJD_mM4jJYnyYFTx-Hh3YK2-7JQ8LnN9WwvJLgFMs90GJrxetm1pjzDU2bV_eRDaa5yPbaZ-k0Xr_oHbY8V0JE59b9bmiE5pA1UgjrjDJJP6-BcPoskPwa1XAK47TY3i1oB6SlX028ah0fPJIhFcmKSTmiauf3wX53-2rv92qPdwPPDvlyl2v-B4Xq5H3RghOy8dazgtR9nmmWsEi1QRIGGgsPml9WdhFH2f_b3VMqjcJ7Sv5aGOn7X2bXF6MVcXC81VeGeZSkQS0oUVYjTE79N_XZvsID_9zyvvu5lD9BGpLKTl_PMF2u5obTfMbR3mxXRgDQBYrtaJhXmDb8dLos-XPkkhStJhI-TtPWTvvooSwpspdb16Qm83t5u6uYUFLh6DcCSmxvPmehPl3cpGPSdE7xwMNPP7TJjnMGHPWcAmhl3BKJfS-NJGnhWW6o4lvKGFvnpSkhUqjyxJCCjbZ8oZWUJmFUFJw-MCmzF4QmhlUSGVV24uTXS_yDsTpLvbpgrourbVNK0W2F7yUCJgDxckp_rwmavHLiEuU2k9iVrsgnKXQdAs_lbgdr0HKgRZRGiu_5Wp-dTDewYkAw5rjhG0doii-LsJK5YJpATW7Vrw6QYkCpHaWY2rwODj_voyhZCK4LmfvNMc7qy2b2xNogrhssoqyqzVlQMjRefhwjsyWlOfOguA5f6SPpjTogKwV9HV5u87F1X_eZCV_SGBEBHsZViixw0TSX0I3x_4svcgDy9C9i4rbUli1mF5nqRYAf6ZK7TfoMCPGIsFM3eCk028eI2RFMyUFWGbtcBUEmuae8ZX4tcvrxBiUlSENSPGkZWv2l_QBxTngPng2PY9nG8xSvCnZ362_pVxwrSA-FxMNop1u7rUke3SMszUBmNwEamkgiTyuVrJ2JRLU./download [following]\n--2020-03-15 19:36:29--  https://public.boxcloud.com/d/1/b1!-ZA-gZCR2TK45ngVxA_qA1iCcxKRB9GzfCJdwVD3uUhI1JNg8kbR8AIjexL-wZcDO_lK5pMdwDpydSG0HyAwNmltzHO_8Xvp61FALkfo0RsotjaI8ICfVelGuMhCL3PdWS_fN8IWI8H4TeySFt6iySe2AhV27VLVVKfCz-sUYV4oyLn6HXArrZ4hW4_QBX0Y0MXfooB8Pynz_fZ0ly5fxjrgKk5STBhlPw0ZjOxt9atRS1ltTXcgyw9r-5gGCdDN-sRKNsCCXZRM7r3hXVsG8vFmgNfdLgXACk7LKctq3IGAUvd4zszG4MT3WXrH1rWyKcLUQea0N8C0cnlswcl7TmxfkzjoryE7bQTKk26_63vtTEM0L0fjyg_XyMVptiTgPeqrBA7-K3IXNfEudysqUJ9SXaKz_8dcs72adaFdMby1MeqrDF7a6vHFbDd78kWCbE_cI-V5jr5wzWUfGgJK2TI9LPDnRZNA_ej1jtRx4nOJD_mM4jJYnyYFTx-Hh3YK2-7JQ8LnN9WwvJLgFMs90GJrxetm1pjzDU2bV_eRDaa5yPbaZ-k0Xr_oHbY8V0JE59b9bmiE5pA1UgjrjDJJP6-BcPoskPwa1XAK47TY3i1oB6SlX028ah0fPJIhFcmKSTmiauf3wX53-2rv92qPdwPPDvlyl2v-B4Xq5H3RghOy8dazgtR9nmmWsEi1QRIGGgsPml9WdhFH2f_b3VMqjcJ7Sv5aGOn7X2bXF6MVcXC81VeGeZSkQS0oUVYjTE79N_XZvsID_9zyvvu5lD9BGpLKTl_PMF2u5obTfMbR3mxXRgDQBYrtaJhXmDb8dLos-XPkkhStJhI-TtPWTvvooSwpspdb16Qm83t5u6uYUFLh6DcCSmxvPmehPl3cpGPSdE7xwMNPP7TJjnMGHPWcAmhl3BKJfS-NJGnhWW6o4lvKGFvnpSkhUqjyxJCCjbZ8oZWUJmFUFJw-MCmzF4QmhlUSGVV24uTXS_yDsTpLvbpgrourbVNK0W2F7yUCJgDxckp_rwmavHLiEuU2k9iVrsgnKXQdAs_lbgdr0HKgRZRGiu_5Wp-dTDewYkAw5rjhG0doii-LsJK5YJpATW7Vrw6QYkCpHaWY2rwODj_voyhZCK4LmfvNMc7qy2b2xNogrhssoqyqzVlQMjRefhwjsyWlOfOguA5f6SPpjTogKwV9HV5u87F1X_eZCV_SGBEBHsZViixw0TSX0I3x_4svcgDy9C9i4rbUli1mF5nqRYAf6ZK7TfoMCPGIsFM3eCk028eI2RFMyUFWGbtcBUEmuae8ZX4tcvrxBiUlSENSPGkZWv2l_QBxTngPng2PY9nG8xSvCnZ362_pVxwrSA-FxMNop1u7rUke3SMszUBmNwEamkgiTyuVrJ2JRLU./download\nResolving public.boxcloud.com (public.boxcloud.com)... 107.152.27.200\nConnecting to public.boxcloud.com (public.boxcloud.com)|107.152.27.200|:443... connected.\nHTTP request sent, awaiting response... 200 OK\nLength: 2891 (2.8K) [text/csv]\nSaving to: \u2018Geospatial_Coordinates.csv\u2019\n\n100%[======================================>] 2,891       --.-K/s   in 0s      \n\n2020-03-15 19:36:30 (279 MB/s) - \u2018Geospatial_Coordinates.csv\u2019 saved [2891/2891]\n\n"
                },
                {
                    "data": {
                        "text/html": "<div>\n<style scoped>\n    .dataframe tbody tr th:only-of-type {\n        vertical-align: middle;\n    }\n\n    .dataframe tbody tr th {\n        vertical-align: top;\n    }\n\n    .dataframe thead th {\n        text-align: right;\n    }\n</style>\n<table border=\"1\" class=\"dataframe\">\n  <thead>\n    <tr style=\"text-align: right;\">\n      <th></th>\n      <th>Postal Code</th>\n      <th>Latitude</th>\n      <th>Longitude</th>\n    </tr>\n  </thead>\n  <tbody>\n    <tr>\n      <th>0</th>\n      <td>M1B</td>\n      <td>43.806686</td>\n      <td>-79.194353</td>\n    </tr>\n    <tr>\n      <th>1</th>\n      <td>M1C</td>\n      <td>43.784535</td>\n      <td>-79.160497</td>\n    </tr>\n    <tr>\n      <th>2</th>\n      <td>M1E</td>\n      <td>43.763573</td>\n      <td>-79.188711</td>\n    </tr>\n    <tr>\n      <th>3</th>\n      <td>M1G</td>\n      <td>43.770992</td>\n      <td>-79.216917</td>\n    </tr>\n    <tr>\n      <th>4</th>\n      <td>M1H</td>\n      <td>43.773136</td>\n      <td>-79.239476</td>\n    </tr>\n  </tbody>\n</table>\n</div>",
                        "text/plain": "  Postal Code   Latitude  Longitude\n0         M1B  43.806686 -79.194353\n1         M1C  43.784535 -79.160497\n2         M1E  43.763573 -79.188711\n3         M1G  43.770992 -79.216917\n4         M1H  43.773136 -79.239476"
                    },
                    "execution_count": 4,
                    "metadata": {},
                    "output_type": "execute_result"
                }
            ],
            "source": "import pandas as pd\n!wget -O Geospatial_Coordinates.csv http://cocl.us/Geospatial_data\ndfCor = pd.read_csv(\"Geospatial_Coordinates.csv\")\ndfCor.head()"
        },
        {
            "cell_type": "code",
            "execution_count": 17,
            "metadata": {},
            "outputs": [
                {
                    "data": {
                        "text/html": "<div>\n<style scoped>\n    .dataframe tbody tr th:only-of-type {\n        vertical-align: middle;\n    }\n\n    .dataframe tbody tr th {\n        vertical-align: top;\n    }\n\n    .dataframe thead th {\n        text-align: right;\n    }\n</style>\n<table border=\"1\" class=\"dataframe\">\n  <thead>\n    <tr style=\"text-align: right;\">\n      <th></th>\n      <th>Postcode</th>\n      <th>Latitude</th>\n      <th>Longitude</th>\n    </tr>\n  </thead>\n  <tbody>\n    <tr>\n      <th>0</th>\n      <td>M1B</td>\n      <td>43.806686</td>\n      <td>-79.194353</td>\n    </tr>\n    <tr>\n      <th>1</th>\n      <td>M1C</td>\n      <td>43.784535</td>\n      <td>-79.160497</td>\n    </tr>\n    <tr>\n      <th>2</th>\n      <td>M1E</td>\n      <td>43.763573</td>\n      <td>-79.188711</td>\n    </tr>\n    <tr>\n      <th>3</th>\n      <td>M1G</td>\n      <td>43.770992</td>\n      <td>-79.216917</td>\n    </tr>\n    <tr>\n      <th>4</th>\n      <td>M1H</td>\n      <td>43.773136</td>\n      <td>-79.239476</td>\n    </tr>\n  </tbody>\n</table>\n</div>",
                        "text/plain": "  Postcode   Latitude  Longitude\n0      M1B  43.806686 -79.194353\n1      M1C  43.784535 -79.160497\n2      M1E  43.763573 -79.188711\n3      M1G  43.770992 -79.216917\n4      M1H  43.773136 -79.239476"
                    },
                    "execution_count": 17,
                    "metadata": {},
                    "output_type": "execute_result"
                }
            ],
            "source": "dfCor.rename(columns={'Postal Code': 'Postcode'}, inplace=True)\ndfCor.head()\n"
        },
        {
            "cell_type": "code",
            "execution_count": 18,
            "metadata": {},
            "outputs": [
                {
                    "data": {
                        "text/html": "<div>\n<style scoped>\n    .dataframe tbody tr th:only-of-type {\n        vertical-align: middle;\n    }\n\n    .dataframe tbody tr th {\n        vertical-align: top;\n    }\n\n    .dataframe thead th {\n        text-align: right;\n    }\n</style>\n<table border=\"1\" class=\"dataframe\">\n  <thead>\n    <tr style=\"text-align: right;\">\n      <th></th>\n      <th>Postcode</th>\n      <th>Borough</th>\n      <th>Neighbourhood</th>\n      <th>Latitude</th>\n      <th>Longitude</th>\n    </tr>\n  </thead>\n  <tbody>\n    <tr>\n      <th>0</th>\n      <td>M1B</td>\n      <td>Scarborough</td>\n      <td>Rouge,Malvern</td>\n      <td>43.806686</td>\n      <td>-79.194353</td>\n    </tr>\n    <tr>\n      <th>1</th>\n      <td>M1C</td>\n      <td>Scarborough</td>\n      <td>Port Union,Rouge Hill,Highland Creek</td>\n      <td>43.784535</td>\n      <td>-79.160497</td>\n    </tr>\n    <tr>\n      <th>2</th>\n      <td>M1E</td>\n      <td>Scarborough</td>\n      <td>Guildwood,Morningside,West Hill</td>\n      <td>43.763573</td>\n      <td>-79.188711</td>\n    </tr>\n    <tr>\n      <th>3</th>\n      <td>M1G</td>\n      <td>Scarborough</td>\n      <td>Woburn</td>\n      <td>43.770992</td>\n      <td>-79.216917</td>\n    </tr>\n    <tr>\n      <th>4</th>\n      <td>M1H</td>\n      <td>Scarborough</td>\n      <td>Cedarbrae</td>\n      <td>43.773136</td>\n      <td>-79.239476</td>\n    </tr>\n  </tbody>\n</table>\n</div>",
                        "text/plain": "  Postcode      Borough                         Neighbourhood   Latitude  \\\n0      M1B  Scarborough                         Rouge,Malvern  43.806686   \n1      M1C  Scarborough  Port Union,Rouge Hill,Highland Creek  43.784535   \n2      M1E  Scarborough       Guildwood,Morningside,West Hill  43.763573   \n3      M1G  Scarborough                                Woburn  43.770992   \n4      M1H  Scarborough                             Cedarbrae  43.773136   \n\n   Longitude  \n0 -79.194353  \n1 -79.160497  \n2 -79.188711  \n3 -79.216917  \n4 -79.239476  "
                    },
                    "execution_count": 18,
                    "metadata": {},
                    "output_type": "execute_result"
                }
            ],
            "source": "dfconcat = pd.merge(dfgroup,dfCor,on='Postcode')\ndfconcat.head()"
        },
        {
            "cell_type": "code",
            "execution_count": null,
            "metadata": {},
            "outputs": [],
            "source": ""
        }
    ],
    "metadata": {
        "kernelspec": {
            "display_name": "Python 3.6",
            "language": "python",
            "name": "python3"
        },
        "language_info": {
            "codemirror_mode": {
                "name": "ipython",
                "version": 3
            },
            "file_extension": ".py",
            "mimetype": "text/x-python",
            "name": "python",
            "nbconvert_exporter": "python",
            "pygments_lexer": "ipython3",
            "version": "3.6.9"
        }
    },
    "nbformat": 4,
    "nbformat_minor": 1
}