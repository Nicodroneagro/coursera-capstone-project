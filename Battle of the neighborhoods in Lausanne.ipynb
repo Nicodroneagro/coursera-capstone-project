{
    "cells": [
        {
            "cell_type": "markdown",
            "metadata": {},
            "source": "# Data section"
        },
        {
            "cell_type": "markdown",
            "metadata": {},
            "source": "### To recommand a location for an opening of a new restaurant, the data from data.geo.admin.ch will be used in order to have geodata of the city of the interest like the commune, postcode, longitude and latitude for each neighborhood (locality)."
        },
        {
            "cell_type": "code",
            "execution_count": 60,
            "metadata": {},
            "outputs": [
                {
                    "name": "stdout",
                    "output_type": "stream",
                    "text": "--2020-03-21 16:29:21--  https://data.geo.admin.ch/ch.swisstopo-vd.ortschaftenverzeichnis_plz/PLZO_CSV_WGS84.zip\nResolving data.geo.admin.ch (data.geo.admin.ch)... 13.226.191.9, 13.226.191.67, 13.226.191.73, ...\nConnecting to data.geo.admin.ch (data.geo.admin.ch)|13.226.191.9|:443... connected.\nHTTP request sent, awaiting response... 200 OK\nLength: 126673 (124K) [application/zip]\nSaving to: \u2018PLZO_CSV_WGS84.zip\u2019\n\n100%[======================================>] 126,673     --.-K/s   in 0.004s  \n\n2020-03-21 16:29:22 (31.4 MB/s) - \u2018PLZO_CSV_WGS84.zip\u2019 saved [126673/126673]\n\nunziping ...\nArchive:  PLZO_CSV_WGS84.zip\n  inflating: PLZO_CSV_WGS84.csv      \n"
                }
            ],
            "source": "!wget -O PLZO_CSV_WGS84.zip https://data.geo.admin.ch/ch.swisstopo-vd.ortschaftenverzeichnis_plz/PLZO_CSV_WGS84.zip\nprint('unziping ...')\n!unzip -o -j PLZO_CSV_WGS84.zip\n"
        },
        {
            "cell_type": "code",
            "execution_count": 20,
            "metadata": {},
            "outputs": [
                {
                    "name": "stdout",
                    "output_type": "stream",
                    "text": "Decoding b'\\xfc' with raw_unicode_escape is \u00fc\nDecoding b'\\xfc' with iso8859_1 is \u00fc\nDecoding b'\\xfc' with palmos is \u00fc\nDecoding b'\\xfc' with cp1256 is \u00fc\nDecoding b'\\xfc' with cp1250 is \u00fc\nDecoding b'\\xfc' with iso8859_16 is \u00fc\nDecoding b'\\xfc' with iso8859_9 is \u00fc\nDecoding b'\\xfc' with iso8859_10 is \u00fc\nDecoding b'\\xfc' with iso8859_13 is \u00fc\nDecoding b'\\xfc' with charmap is \u00fc\nDecoding b'\\xfc' with iso8859_3 is \u00fc\nDecoding b'\\xfc' with unicode_escape is \u00fc\nDecoding b'\\xfc' with iso8859_14 is \u00fc\nDecoding b'\\xfc' with cp1254 is \u00fc\nDecoding b'\\xfc' with cp1257 is \u00fc\nDecoding b'\\xfc' with iso8859_4 is \u00fc\nDecoding b'\\xfc' with cp1258 is \u00fc\nDecoding b'\\xfc' with iso8859_2 is \u00fc\nDecoding b'\\xfc' with cp1252 is \u00fc\nDecoding b'\\xfc' with iso8859_15 is \u00fc\nDecoding b'\\xfc' with latin_1 is \u00fc\n"
                },
                {
                    "name": "stderr",
                    "output_type": "stream",
                    "text": "/opt/conda/envs/Python36/lib/python3.6/site-packages/ipykernel/__main__.py:14: DeprecationWarning: unicode_internal codec has been deprecated\n"
                }
            ],
            "source": "# Code to solve issues in data downloading\nimport pkgutil\nimport encodings\nimport os\n\ndef all_encodings():\n    modnames = set([modname for importer, modname, ispkg in pkgutil.walk_packages(\n        path=[os.path.dirname(encodings.__file__)], prefix='')])\n    aliases = set(encodings.aliases.aliases.values())\n    return modnames.union(aliases)\n\ntext = b'\\xfc'\nfor enc in all_encodings():\n    try:\n        msg = text.decode(enc)\n    except Exception:\n        continue\n    if msg == '\u00fc':\n        print('Decoding {t} with {enc} is {m}'.format(t=text, enc=enc, m=msg))\n\n\n"
        },
        {
            "cell_type": "code",
            "execution_count": 58,
            "metadata": {},
            "outputs": [
                {
                    "data": {
                        "text/html": "<div>\n<style scoped>\n    .dataframe tbody tr th:only-of-type {\n        vertical-align: middle;\n    }\n\n    .dataframe tbody tr th {\n        vertical-align: top;\n    }\n\n    .dataframe thead th {\n        text-align: right;\n    }\n</style>\n<table border=\"1\" class=\"dataframe\">\n  <thead>\n    <tr style=\"text-align: right;\">\n      <th></th>\n      <th>Ortschaftsname</th>\n      <th>PLZ</th>\n      <th>Zusatzziffer</th>\n      <th>Gemeindename</th>\n      <th>BFS-Nr</th>\n      <th>Kantonsk\u00fcrzel</th>\n      <th>E</th>\n      <th>N</th>\n      <th>Sprache</th>\n    </tr>\n  </thead>\n  <tbody>\n    <tr>\n      <th>0</th>\n      <td>Aeugst am Albis</td>\n      <td>8914</td>\n      <td>0</td>\n      <td>Aeugst am Albis</td>\n      <td>1</td>\n      <td>ZH</td>\n      <td>8.488313</td>\n      <td>47.267004</td>\n      <td>de</td>\n    </tr>\n    <tr>\n      <th>1</th>\n      <td>Aeugstertal</td>\n      <td>8914</td>\n      <td>2</td>\n      <td>Aeugst am Albis</td>\n      <td>1</td>\n      <td>ZH</td>\n      <td>8.493642</td>\n      <td>47.282761</td>\n      <td>de</td>\n    </tr>\n    <tr>\n      <th>2</th>\n      <td>Zwillikon</td>\n      <td>8909</td>\n      <td>0</td>\n      <td>Affoltern am Albis</td>\n      <td>2</td>\n      <td>ZH</td>\n      <td>8.431459</td>\n      <td>47.287633</td>\n      <td>de</td>\n    </tr>\n    <tr>\n      <th>3</th>\n      <td>Affoltern am Albis</td>\n      <td>8910</td>\n      <td>0</td>\n      <td>Affoltern am Albis</td>\n      <td>2</td>\n      <td>ZH</td>\n      <td>8.448945</td>\n      <td>47.279169</td>\n      <td>de</td>\n    </tr>\n    <tr>\n      <th>4</th>\n      <td>Bonstetten</td>\n      <td>8906</td>\n      <td>0</td>\n      <td>Bonstetten</td>\n      <td>3</td>\n      <td>ZH</td>\n      <td>8.467611</td>\n      <td>47.315510</td>\n      <td>de</td>\n    </tr>\n  </tbody>\n</table>\n</div>",
                        "text/plain": "       Ortschaftsname   PLZ  Zusatzziffer        Gemeindename  BFS-Nr  \\\n0     Aeugst am Albis  8914             0     Aeugst am Albis       1   \n1         Aeugstertal  8914             2     Aeugst am Albis       1   \n2           Zwillikon  8909             0  Affoltern am Albis       2   \n3  Affoltern am Albis  8910             0  Affoltern am Albis       2   \n4          Bonstetten  8906             0          Bonstetten       3   \n\n  Kantonsk\u00fcrzel         E          N Sprache  \n0            ZH  8.488313  47.267004      de  \n1            ZH  8.493642  47.282761      de  \n2            ZH  8.431459  47.287633      de  \n3            ZH  8.448945  47.279169      de  \n4            ZH  8.467611  47.315510      de  "
                    },
                    "execution_count": 58,
                    "metadata": {},
                    "output_type": "execute_result"
                }
            ],
            "source": "# Import data\nimport pandas\nimport csv\nwith open('PLZO_CSV_WGS84.csv','r',encoding='latin_1', newline='') as csvfile:\n    swiss_df = pd.read_csv(csvfile,delimiter = ';')\nswiss_df.head()\n"
        },
        {
            "cell_type": "code",
            "execution_count": 61,
            "metadata": {},
            "outputs": [
                {
                    "data": {
                        "text/html": "<div>\n<style scoped>\n    .dataframe tbody tr th:only-of-type {\n        vertical-align: middle;\n    }\n\n    .dataframe tbody tr th {\n        vertical-align: top;\n    }\n\n    .dataframe thead th {\n        text-align: right;\n    }\n</style>\n<table border=\"1\" class=\"dataframe\">\n  <thead>\n    <tr style=\"text-align: right;\">\n      <th></th>\n      <th>Locality</th>\n      <th>Postcode</th>\n      <th>Amendment</th>\n      <th>Commune</th>\n      <th>BFS-Nr</th>\n      <th>Canton</th>\n      <th>Latitude</th>\n      <th>Longitude</th>\n      <th>Language</th>\n    </tr>\n  </thead>\n  <tbody>\n    <tr>\n      <th>0</th>\n      <td>Aeugst am Albis</td>\n      <td>8914</td>\n      <td>0</td>\n      <td>Aeugst am Albis</td>\n      <td>1</td>\n      <td>ZH</td>\n      <td>8.488313</td>\n      <td>47.267004</td>\n      <td>de</td>\n    </tr>\n    <tr>\n      <th>1</th>\n      <td>Aeugstertal</td>\n      <td>8914</td>\n      <td>2</td>\n      <td>Aeugst am Albis</td>\n      <td>1</td>\n      <td>ZH</td>\n      <td>8.493642</td>\n      <td>47.282761</td>\n      <td>de</td>\n    </tr>\n    <tr>\n      <th>2</th>\n      <td>Zwillikon</td>\n      <td>8909</td>\n      <td>0</td>\n      <td>Affoltern am Albis</td>\n      <td>2</td>\n      <td>ZH</td>\n      <td>8.431459</td>\n      <td>47.287633</td>\n      <td>de</td>\n    </tr>\n    <tr>\n      <th>3</th>\n      <td>Affoltern am Albis</td>\n      <td>8910</td>\n      <td>0</td>\n      <td>Affoltern am Albis</td>\n      <td>2</td>\n      <td>ZH</td>\n      <td>8.448945</td>\n      <td>47.279169</td>\n      <td>de</td>\n    </tr>\n    <tr>\n      <th>4</th>\n      <td>Bonstetten</td>\n      <td>8906</td>\n      <td>0</td>\n      <td>Bonstetten</td>\n      <td>3</td>\n      <td>ZH</td>\n      <td>8.467611</td>\n      <td>47.315510</td>\n      <td>de</td>\n    </tr>\n  </tbody>\n</table>\n</div>",
                        "text/plain": "             Locality  Postcode  Amendment             Commune  BFS-Nr Canton  \\\n0     Aeugst am Albis      8914          0     Aeugst am Albis       1     ZH   \n1         Aeugstertal      8914          2     Aeugst am Albis       1     ZH   \n2           Zwillikon      8909          0  Affoltern am Albis       2     ZH   \n3  Affoltern am Albis      8910          0  Affoltern am Albis       2     ZH   \n4          Bonstetten      8906          0          Bonstetten       3     ZH   \n\n   Latitude  Longitude Language  \n0  8.488313  47.267004       de  \n1  8.493642  47.282761       de  \n2  8.431459  47.287633       de  \n3  8.448945  47.279169       de  \n4  8.467611  47.315510       de  "
                    },
                    "execution_count": 61,
                    "metadata": {},
                    "output_type": "execute_result"
                }
            ],
            "source": "# Rename the columns names with english name\nswiss_df.rename({'Ortschaftsname': 'Locality', 'PLZ': 'Postcode', 'Zusatzziffer': 'Amendment','Gemeindename': 'Commune','Kantonsk\u00fcrzel': 'Canton','E': 'Latitude','N': 'Longitude','Sprache': 'Language'}, axis=1, inplace=True)\nswiss_df.head()\n"
        },
        {
            "cell_type": "code",
            "execution_count": 62,
            "metadata": {},
            "outputs": [
                {
                    "data": {
                        "text/html": "<div>\n<style scoped>\n    .dataframe tbody tr th:only-of-type {\n        vertical-align: middle;\n    }\n\n    .dataframe tbody tr th {\n        vertical-align: top;\n    }\n\n    .dataframe thead th {\n        text-align: right;\n    }\n</style>\n<table border=\"1\" class=\"dataframe\">\n  <thead>\n    <tr style=\"text-align: right;\">\n      <th></th>\n      <th>Locality</th>\n      <th>Postcode</th>\n      <th>Amendment</th>\n      <th>BFS-Nr</th>\n      <th>Canton</th>\n      <th>Latitude</th>\n      <th>Longitude</th>\n      <th>Language</th>\n    </tr>\n    <tr>\n      <th>Commune</th>\n      <th></th>\n      <th></th>\n      <th></th>\n      <th></th>\n      <th></th>\n      <th></th>\n      <th></th>\n      <th></th>\n    </tr>\n  </thead>\n  <tbody>\n    <tr>\n      <th>Aeugst am Albis</th>\n      <td>Aeugst am Albis</td>\n      <td>8914</td>\n      <td>0</td>\n      <td>1</td>\n      <td>ZH</td>\n      <td>8.488313</td>\n      <td>47.267004</td>\n      <td>de</td>\n    </tr>\n    <tr>\n      <th>Aeugst am Albis</th>\n      <td>Aeugstertal</td>\n      <td>8914</td>\n      <td>2</td>\n      <td>1</td>\n      <td>ZH</td>\n      <td>8.493642</td>\n      <td>47.282761</td>\n      <td>de</td>\n    </tr>\n    <tr>\n      <th>Affoltern am Albis</th>\n      <td>Zwillikon</td>\n      <td>8909</td>\n      <td>0</td>\n      <td>2</td>\n      <td>ZH</td>\n      <td>8.431459</td>\n      <td>47.287633</td>\n      <td>de</td>\n    </tr>\n    <tr>\n      <th>Affoltern am Albis</th>\n      <td>Affoltern am Albis</td>\n      <td>8910</td>\n      <td>0</td>\n      <td>2</td>\n      <td>ZH</td>\n      <td>8.448945</td>\n      <td>47.279169</td>\n      <td>de</td>\n    </tr>\n    <tr>\n      <th>Bonstetten</th>\n      <td>Bonstetten</td>\n      <td>8906</td>\n      <td>0</td>\n      <td>3</td>\n      <td>ZH</td>\n      <td>8.467611</td>\n      <td>47.315510</td>\n      <td>de</td>\n    </tr>\n  </tbody>\n</table>\n</div>",
                        "text/plain": "                              Locality  Postcode  Amendment  BFS-Nr Canton  \\\nCommune                                                                      \nAeugst am Albis        Aeugst am Albis      8914          0       1     ZH   \nAeugst am Albis            Aeugstertal      8914          2       1     ZH   \nAffoltern am Albis           Zwillikon      8909          0       2     ZH   \nAffoltern am Albis  Affoltern am Albis      8910          0       2     ZH   \nBonstetten                  Bonstetten      8906          0       3     ZH   \n\n                    Latitude  Longitude Language  \nCommune                                           \nAeugst am Albis     8.488313  47.267004       de  \nAeugst am Albis     8.493642  47.282761       de  \nAffoltern am Albis  8.431459  47.287633       de  \nAffoltern am Albis  8.448945  47.279169       de  \nBonstetten          8.467611  47.315510       de  "
                    },
                    "execution_count": 62,
                    "metadata": {},
                    "output_type": "execute_result"
                }
            ],
            "source": "# Set the index in commune to choose the commune that we are interested in (Lausanne)\nswiss_df.set_index('Commune',inplace=True)\nswiss_df.head()"
        },
        {
            "cell_type": "code",
            "execution_count": 63,
            "metadata": {},
            "outputs": [
                {
                    "data": {
                        "text/html": "<div>\n<style scoped>\n    .dataframe tbody tr th:only-of-type {\n        vertical-align: middle;\n    }\n\n    .dataframe tbody tr th {\n        vertical-align: top;\n    }\n\n    .dataframe thead th {\n        text-align: right;\n    }\n</style>\n<table border=\"1\" class=\"dataframe\">\n  <thead>\n    <tr style=\"text-align: right;\">\n      <th></th>\n      <th>Locality</th>\n      <th>Postcode</th>\n      <th>Amendment</th>\n      <th>BFS-Nr</th>\n      <th>Canton</th>\n      <th>Latitude</th>\n      <th>Longitude</th>\n      <th>Language</th>\n    </tr>\n    <tr>\n      <th>Commune</th>\n      <th></th>\n      <th></th>\n      <th></th>\n      <th></th>\n      <th></th>\n      <th></th>\n      <th></th>\n      <th></th>\n    </tr>\n  </thead>\n  <tbody>\n    <tr>\n      <th>Lausanne</th>\n      <td>Lausanne 25</td>\n      <td>1000</td>\n      <td>25</td>\n      <td>5586</td>\n      <td>VD</td>\n      <td>6.683444</td>\n      <td>46.562237</td>\n      <td>fr</td>\n    </tr>\n    <tr>\n      <th>Lausanne</th>\n      <td>Lausanne 26</td>\n      <td>1000</td>\n      <td>26</td>\n      <td>5586</td>\n      <td>VD</td>\n      <td>6.696216</td>\n      <td>46.556483</td>\n      <td>fr</td>\n    </tr>\n    <tr>\n      <th>Lausanne</th>\n      <td>Lausanne 27</td>\n      <td>1000</td>\n      <td>27</td>\n      <td>5586</td>\n      <td>VD</td>\n      <td>6.681465</td>\n      <td>46.541743</td>\n      <td>fr</td>\n    </tr>\n    <tr>\n      <th>Lausanne</th>\n      <td>Lausanne</td>\n      <td>1003</td>\n      <td>0</td>\n      <td>5586</td>\n      <td>VD</td>\n      <td>6.630034</td>\n      <td>46.520004</td>\n      <td>fr</td>\n    </tr>\n    <tr>\n      <th>Lausanne</th>\n      <td>Lausanne</td>\n      <td>1004</td>\n      <td>0</td>\n      <td>5586</td>\n      <td>VD</td>\n      <td>6.618678</td>\n      <td>46.528480</td>\n      <td>fr</td>\n    </tr>\n    <tr>\n      <th>Lausanne</th>\n      <td>Lausanne</td>\n      <td>1005</td>\n      <td>0</td>\n      <td>5586</td>\n      <td>VD</td>\n      <td>6.642500</td>\n      <td>46.519859</td>\n      <td>fr</td>\n    </tr>\n    <tr>\n      <th>Lausanne</th>\n      <td>Lausanne</td>\n      <td>1006</td>\n      <td>0</td>\n      <td>5586</td>\n      <td>VD</td>\n      <td>6.637110</td>\n      <td>46.510849</td>\n      <td>fr</td>\n    </tr>\n    <tr>\n      <th>Lausanne</th>\n      <td>Lausanne</td>\n      <td>1007</td>\n      <td>0</td>\n      <td>5586</td>\n      <td>VD</td>\n      <td>6.608606</td>\n      <td>46.517754</td>\n      <td>fr</td>\n    </tr>\n    <tr>\n      <th>Lausanne</th>\n      <td>Lausanne</td>\n      <td>1010</td>\n      <td>0</td>\n      <td>5586</td>\n      <td>VD</td>\n      <td>6.658920</td>\n      <td>46.536143</td>\n      <td>fr</td>\n    </tr>\n    <tr>\n      <th>Lausanne</th>\n      <td>Lausanne</td>\n      <td>1011</td>\n      <td>0</td>\n      <td>5586</td>\n      <td>VD</td>\n      <td>6.642880</td>\n      <td>46.525635</td>\n      <td>fr</td>\n    </tr>\n    <tr>\n      <th>Lausanne</th>\n      <td>Lausanne</td>\n      <td>1012</td>\n      <td>0</td>\n      <td>5586</td>\n      <td>VD</td>\n      <td>6.656931</td>\n      <td>46.526342</td>\n      <td>fr</td>\n    </tr>\n    <tr>\n      <th>Lausanne</th>\n      <td>Lausanne</td>\n      <td>1015</td>\n      <td>0</td>\n      <td>5586</td>\n      <td>VD</td>\n      <td>6.574090</td>\n      <td>46.521485</td>\n      <td>fr</td>\n    </tr>\n    <tr>\n      <th>Lausanne</th>\n      <td>Lausanne</td>\n      <td>1018</td>\n      <td>0</td>\n      <td>5586</td>\n      <td>VD</td>\n      <td>6.628646</td>\n      <td>46.538725</td>\n      <td>fr</td>\n    </tr>\n  </tbody>\n</table>\n</div>",
                        "text/plain": "             Locality  Postcode  Amendment  BFS-Nr Canton  Latitude  \\\nCommune                                                               \nLausanne  Lausanne 25      1000         25    5586     VD  6.683444   \nLausanne  Lausanne 26      1000         26    5586     VD  6.696216   \nLausanne  Lausanne 27      1000         27    5586     VD  6.681465   \nLausanne     Lausanne      1003          0    5586     VD  6.630034   \nLausanne     Lausanne      1004          0    5586     VD  6.618678   \nLausanne     Lausanne      1005          0    5586     VD  6.642500   \nLausanne     Lausanne      1006          0    5586     VD  6.637110   \nLausanne     Lausanne      1007          0    5586     VD  6.608606   \nLausanne     Lausanne      1010          0    5586     VD  6.658920   \nLausanne     Lausanne      1011          0    5586     VD  6.642880   \nLausanne     Lausanne      1012          0    5586     VD  6.656931   \nLausanne     Lausanne      1015          0    5586     VD  6.574090   \nLausanne     Lausanne      1018          0    5586     VD  6.628646   \n\n          Longitude Language  \nCommune                       \nLausanne  46.562237       fr  \nLausanne  46.556483       fr  \nLausanne  46.541743       fr  \nLausanne  46.520004       fr  \nLausanne  46.528480       fr  \nLausanne  46.519859       fr  \nLausanne  46.510849       fr  \nLausanne  46.517754       fr  \nLausanne  46.536143       fr  \nLausanne  46.525635       fr  \nLausanne  46.526342       fr  \nLausanne  46.521485       fr  \nLausanne  46.538725       fr  "
                    },
                    "execution_count": 63,
                    "metadata": {},
                    "output_type": "execute_result"
                }
            ],
            "source": "# Select the data that we are interested in (Lausanne)\nswiss_df.loc['Lausanne']"
        },
        {
            "cell_type": "code",
            "execution_count": null,
            "metadata": {},
            "outputs": [],
            "source": ""
        }
    ],
    "metadata": {
        "kernelspec": {
            "display_name": "Python 3.6",
            "language": "python",
            "name": "python3"
        },
        "language_info": {
            "codemirror_mode": {
                "name": "ipython",
                "version": 3
            },
            "file_extension": ".py",
            "mimetype": "text/x-python",
            "name": "python",
            "nbconvert_exporter": "python",
            "pygments_lexer": "ipython3",
            "version": "3.6.9"
        }
    },
    "nbformat": 4,
    "nbformat_minor": 1
}